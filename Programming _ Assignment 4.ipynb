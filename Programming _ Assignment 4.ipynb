{
 "cells": [
  {
   "cell_type": "markdown",
   "id": "0ee14c81",
   "metadata": {},
   "source": [
    "1.\tWrite a Python Program to Find the Factorial of a Number?"
   ]
  },
  {
   "cell_type": "code",
   "execution_count": 2,
   "id": "5d8686fc",
   "metadata": {},
   "outputs": [
    {
     "name": "stdout",
     "output_type": "stream",
     "text": [
      "Enter any number : 4\n",
      "factorial of a num is 24\n"
     ]
    }
   ],
   "source": [
    "###Python Program to Find the Factorial of a Number\n",
    "num = int(input(\"Enter any number : \"))\n",
    "fact = 1\n",
    "if num<1:\n",
    "    print(\"Sorry, factorial does not exists for negative numbers\")\n",
    "elif num == 0:\n",
    "    print(\"The factorial of 0 is 1\")\n",
    "else:\n",
    "    for i in range(1,num+1):\n",
    "        fact = fact*i\n",
    "    print(f'factorial of a num is {fact}')\n"
   ]
  },
  {
   "cell_type": "markdown",
   "id": "c4437ae2",
   "metadata": {},
   "source": [
    "2.\tWrite a Python Program to Display the multiplication Table?"
   ]
  },
  {
   "cell_type": "code",
   "execution_count": 3,
   "id": "01395553",
   "metadata": {},
   "outputs": [
    {
     "name": "stdout",
     "output_type": "stream",
     "text": [
      "Enter any number : 2\n",
      "2x1=2\n",
      "2x2=4\n",
      "2x3=6\n",
      "2x4=8\n",
      "2x5=10\n",
      "2x6=12\n",
      "2x7=14\n",
      "2x8=16\n",
      "2x9=18\n",
      "2x10=20\n"
     ]
    }
   ],
   "source": [
    "###Python Program to Display the multiplication Table\n",
    "n = int(input(\"Enter any number : \"))\n",
    "for i in range(1,11):\n",
    "    print(f'{n}x{i}={n*i}')\n"
   ]
  },
  {
   "cell_type": "markdown",
   "id": "94817faf",
   "metadata": {},
   "source": [
    "3.\tWrite a Python Program to Print the Fibonacci sequence?"
   ]
  },
  {
   "cell_type": "code",
   "execution_count": 4,
   "id": "f5d068be",
   "metadata": {},
   "outputs": [
    {
     "name": "stdout",
     "output_type": "stream",
     "text": [
      "Enter How many terms? 5\n",
      "Fibonacci sequence:\n",
      "0\n",
      "1\n",
      "1\n",
      "2\n",
      "3\n"
     ]
    }
   ],
   "source": [
    "###Python Program to Print the Fibonacci sequence\n",
    "nterms = int(input(\"Enter How many terms? \"))\n",
    "n1,n2 = 0,1\n",
    "count = 0\n",
    "if nterms <= 0:\n",
    "    print(\"Please enter a positive number\")\n",
    "elif nterms == 1:\n",
    "    print(\"Fibonacci sequence upto\",nterms,\":\")\n",
    "    print(n1)\n",
    "else:\n",
    "    print(\"Fibonacci sequence:\")\n",
    "    while count < nterms:\n",
    "        print(n1)\n",
    "        nth = n1 + n2\n",
    "        n1 = n2\n",
    "        n2 = nth\n",
    "        count += 1"
   ]
  },
  {
   "cell_type": "markdown",
   "id": "988ea4f4",
   "metadata": {},
   "source": [
    "4.\tWrite a Python Program to Check Armstrong Number?"
   ]
  },
  {
   "cell_type": "code",
   "execution_count": 5,
   "id": "e19406e7",
   "metadata": {},
   "outputs": [
    {
     "name": "stdout",
     "output_type": "stream",
     "text": [
      "Enter any number : 234\n",
      "234 is not a Armstrong Number\n"
     ]
    }
   ],
   "source": [
    "###Python Program to Check Armstrong Number\n",
    "num = int(input(\"Enter any number : \"))\n",
    "sum = 0\n",
    "order = len(str(num))\n",
    "temp = num\n",
    "while temp > 0:\n",
    "    digit = temp % 10 \n",
    "    sum = sum + digit**order\n",
    "    temp //= 10\n",
    "if num == sum:\n",
    "    print(num,\"is Armstrong Number\")\n",
    "else:\n",
    "    print(num,\"is not a Armstrong Number\")"
   ]
  },
  {
   "cell_type": "markdown",
   "id": "09477f6f",
   "metadata": {},
   "source": [
    "5.\tWrite a Python Program to Find Armstrong Number in an Interval?"
   ]
  },
  {
   "cell_type": "code",
   "execution_count": 8,
   "id": "94c3d90f",
   "metadata": {},
   "outputs": [
    {
     "name": "stdout",
     "output_type": "stream",
     "text": [
      "370\n",
      "371\n",
      "407\n"
     ]
    }
   ],
   "source": [
    "###Python Program to Find Armstrong Number in an Interval\n",
    "lower = 200\n",
    "upper = 1500\n",
    "\n",
    "for num in range(lower, upper + 1):\n",
    "    order = len(str(num))\n",
    "    sum = 0\n",
    "    temp = num\n",
    "    while temp > 0:\n",
    "        digit = temp % 10\n",
    "        sum += digit ** order\n",
    "        temp //= 10\n",
    "\n",
    "    if num == sum:\n",
    "        print(num)"
   ]
  },
  {
   "cell_type": "markdown",
   "id": "582b0d3f",
   "metadata": {},
   "source": [
    "6.\tWrite a Python Program to Find the Sum of Natural Numbers?"
   ]
  },
  {
   "cell_type": "code",
   "execution_count": 9,
   "id": "c4169c49",
   "metadata": {},
   "outputs": [
    {
     "name": "stdout",
     "output_type": "stream",
     "text": [
      "Enter any number : 3\n",
      "4\n",
      "5\n",
      "6\n",
      "7\n",
      "8\n",
      "9\n",
      "10\n",
      "11\n",
      "12\n",
      "13\n",
      "14\n",
      "15\n",
      "16\n",
      "17\n",
      "18\n",
      "19\n",
      "20\n",
      "21\n"
     ]
    }
   ],
   "source": [
    "###Python Program to Find the Sum of Natural Numbers\n",
    "num = int(input(\"Enter any number : \"))\n",
    "if num < 0:\n",
    "    print(\"Enter Positive number\")\n",
    "else:\n",
    "    sum = 0\n",
    "    while num <= 20:\n",
    "        sum = sum + num\n",
    "        num = num + 1\n",
    "        print(num)"
   ]
  },
  {
   "cell_type": "code",
   "execution_count": null,
   "id": "4e4174d4",
   "metadata": {},
   "outputs": [],
   "source": []
  }
 ],
 "metadata": {
  "kernelspec": {
   "display_name": "Python 3 (ipykernel)",
   "language": "python",
   "name": "python3"
  },
  "language_info": {
   "codemirror_mode": {
    "name": "ipython",
    "version": 3
   },
   "file_extension": ".py",
   "mimetype": "text/x-python",
   "name": "python",
   "nbconvert_exporter": "python",
   "pygments_lexer": "ipython3",
   "version": "3.9.12"
  }
 },
 "nbformat": 4,
 "nbformat_minor": 5
}
