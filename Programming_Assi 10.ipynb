{
 "cells": [
  {
   "cell_type": "markdown",
   "id": "f5da3c58",
   "metadata": {},
   "source": [
    "1.Write a Python program to find sum of elements in list?"
   ]
  },
  {
   "cell_type": "code",
   "execution_count": 1,
   "id": "58429a75",
   "metadata": {},
   "outputs": [
    {
     "name": "stdout",
     "output_type": "stream",
     "text": [
      "Sum of all elements in list1 is 73\n"
     ]
    }
   ],
   "source": [
    "###Python program to find sum of elements in list\n",
    "list1 = [1,7,4,9,7,45]\n",
    "sum = 0\n",
    "for ele in range(0,len(list1)):\n",
    "    sum = sum + list1[ele]\n",
    "print(f'Sum of all elements in list1 is {sum}')"
   ]
  },
  {
   "cell_type": "markdown",
   "id": "627f1380",
   "metadata": {},
   "source": [
    "2.Write a Python program to Multiply all numbers in the list?"
   ]
  },
  {
   "cell_type": "code",
   "execution_count": 2,
   "id": "170c3f51",
   "metadata": {},
   "outputs": [
    {
     "name": "stdout",
     "output_type": "stream",
     "text": [
      "Multiply of all numbers in list1 is 20160\n"
     ]
    }
   ],
   "source": [
    "###Python program to Multiply all numbers in the list\n",
    "list1 = [5,9,4,2,8,7]\n",
    "result = 1\n",
    "for ele in range(0,len(list1)):\n",
    "    result = result*list1[ele]\n",
    "print(f'Multiply of all numbers in list1 is {result}')"
   ]
  },
  {
   "cell_type": "markdown",
   "id": "a161dc7c",
   "metadata": {},
   "source": [
    "3.Write a Python program to find smallest number in a list?"
   ]
  },
  {
   "cell_type": "code",
   "execution_count": 3,
   "id": "a6bde675",
   "metadata": {},
   "outputs": [
    {
     "name": "stdout",
     "output_type": "stream",
     "text": [
      "smallest number in list1 is 1\n"
     ]
    }
   ],
   "source": [
    "###Python program to find smallest number in a list\n",
    "list1 = [45,9,5,2,67,1]\n",
    "list1.sort()\n",
    "print(f'smallest number in list1 is {list1[0]}')"
   ]
  },
  {
   "cell_type": "markdown",
   "id": "3afd8f47",
   "metadata": {},
   "source": [
    "4.Write a Python program to find largest number in a list?"
   ]
  },
  {
   "cell_type": "code",
   "execution_count": 4,
   "id": "07d07740",
   "metadata": {},
   "outputs": [
    {
     "name": "stdout",
     "output_type": "stream",
     "text": [
      "Largest number in list1 is 98\n"
     ]
    }
   ],
   "source": [
    "###Python program to find largest number in a list\n",
    "list1 = [3,56,47,68,5,98]\n",
    "list1.sort()\n",
    "print(f'Largest number in list1 is {list1[-1]}')"
   ]
  },
  {
   "cell_type": "markdown",
   "id": "6d96fc33",
   "metadata": {},
   "source": [
    "5.Write a Python program to find second largest number in a list?"
   ]
  },
  {
   "cell_type": "code",
   "execution_count": 5,
   "id": "0cf62538",
   "metadata": {},
   "outputs": [
    {
     "name": "stdout",
     "output_type": "stream",
     "text": [
      "Largest number in list1 is 68\n"
     ]
    }
   ],
   "source": [
    "###Python program to find second largest number in a list\n",
    "list1 = [3,56,47,68,5,98]\n",
    "list1.sort()\n",
    "print(f'Largest number in list1 is {list1[-2]}')"
   ]
  },
  {
   "cell_type": "markdown",
   "id": "7d294781",
   "metadata": {},
   "source": [
    "6.Write a Python program to find N largest elements from a list?"
   ]
  },
  {
   "cell_type": "code",
   "execution_count": 6,
   "id": "55310ee5",
   "metadata": {},
   "outputs": [
    {
     "name": "stdout",
     "output_type": "stream",
     "text": [
      "N-Largest numbers in list1 is [14, 16, 20, 22]\n"
     ]
    }
   ],
   "source": [
    "###Python program to find N largest number in a list\n",
    "list1 = [14,6,12,22,20,9,7,16]\n",
    "n = 4\n",
    "list1.sort()\n",
    "print(f'N-Largest numbers in list1 is {list1[-4:]}')"
   ]
  },
  {
   "cell_type": "markdown",
   "id": "7a807047",
   "metadata": {},
   "source": [
    "7.Write a Python program to print even numbers in a list?"
   ]
  },
  {
   "cell_type": "code",
   "execution_count": 7,
   "id": "02f0f9e8",
   "metadata": {},
   "outputs": [
    {
     "name": "stdout",
     "output_type": "stream",
     "text": [
      "2 8 6 76 "
     ]
    }
   ],
   "source": [
    "###Python program to print even numbers in a list\n",
    "list1 = [2,5,8,9,6,5,23,55,76,87]\n",
    "for num in list1:\n",
    "     if num%2 == 0:\n",
    "            print(num,end = ' ')"
   ]
  },
  {
   "cell_type": "markdown",
   "id": "be632d9a",
   "metadata": {},
   "source": [
    "8.Write a Python program to print odd numbers in a List?"
   ]
  },
  {
   "cell_type": "code",
   "execution_count": 8,
   "id": "7224d7c7",
   "metadata": {},
   "outputs": [
    {
     "name": "stdout",
     "output_type": "stream",
     "text": [
      "5 9 5 23 55 87 "
     ]
    }
   ],
   "source": [
    "###Python program to print odd numbers in a List\n",
    "list1 = [2,5,8,9,6,5,23,55,76,87]\n",
    "for num in list1:\n",
    "     if num%2 == 1:\n",
    "            print(num,end = ' ')"
   ]
  },
  {
   "cell_type": "markdown",
   "id": "69202d94",
   "metadata": {},
   "source": [
    "9.Write a Python program to Remove empty List from List?"
   ]
  },
  {
   "cell_type": "code",
   "execution_count": 9,
   "id": "10978c94",
   "metadata": {},
   "outputs": [
    {
     "name": "stdout",
     "output_type": "stream",
     "text": [
      "[2, 6, [3, 4], [7, 8], 12, 14]\n"
     ]
    }
   ],
   "source": [
    "###Python program to Remove empty List from List\n",
    "list1 = [2,6,[3,4],[],[7,8],[],12,14]\n",
    "res = [ele for ele in list1 if ele != []]\n",
    "print(res)"
   ]
  },
  {
   "cell_type": "markdown",
   "id": "4500f78b",
   "metadata": {},
   "source": [
    "10.Write a Python program to Cloning or Copying a list?"
   ]
  },
  {
   "cell_type": "code",
   "execution_count": 12,
   "id": "c7ba4d32",
   "metadata": {},
   "outputs": [
    {
     "name": "stdout",
     "output_type": "stream",
     "text": [
      "Enter a list3,4,5,6,7,8,0\n",
      "(3, 4, 5, 6, 7, 8, 0) 2212662196448\n"
     ]
    },
    {
     "ename": "AttributeError",
     "evalue": "'tuple' object has no attribute 'copy'",
     "output_type": "error",
     "traceback": [
      "\u001b[1;31m---------------------------------------------------------------------------\u001b[0m",
      "\u001b[1;31mAttributeError\u001b[0m                            Traceback (most recent call last)",
      "Input \u001b[1;32mIn [12]\u001b[0m, in \u001b[0;36m<cell line: 8>\u001b[1;34m()\u001b[0m\n\u001b[0;32m      5\u001b[0m     cloned_list \u001b[38;5;241m=\u001b[39m list1\u001b[38;5;241m.\u001b[39mcopy()\n\u001b[0;32m      6\u001b[0m     \u001b[38;5;28mprint\u001b[39m(cloned_list, \u001b[38;5;28mid\u001b[39m(cloned_list))\n\u001b[1;32m----> 8\u001b[0m \u001b[43mcloneList\u001b[49m\u001b[43m(\u001b[49m\u001b[43m)\u001b[49m\n",
      "Input \u001b[1;32mIn [12]\u001b[0m, in \u001b[0;36mcloneList\u001b[1;34m()\u001b[0m\n\u001b[0;32m      3\u001b[0m list1 \u001b[38;5;241m=\u001b[39m \u001b[38;5;28meval\u001b[39m(\u001b[38;5;28minput\u001b[39m(\u001b[38;5;124m'\u001b[39m\u001b[38;5;124mEnter a list\u001b[39m\u001b[38;5;124m'\u001b[39m))\n\u001b[0;32m      4\u001b[0m \u001b[38;5;28mprint\u001b[39m(list1, \u001b[38;5;28mid\u001b[39m(list1))\n\u001b[1;32m----> 5\u001b[0m cloned_list \u001b[38;5;241m=\u001b[39m \u001b[43mlist1\u001b[49m\u001b[38;5;241;43m.\u001b[39;49m\u001b[43mcopy\u001b[49m()\n\u001b[0;32m      6\u001b[0m \u001b[38;5;28mprint\u001b[39m(cloned_list, \u001b[38;5;28mid\u001b[39m(cloned_list))\n",
      "\u001b[1;31mAttributeError\u001b[0m: 'tuple' object has no attribute 'copy'"
     ]
    }
   ],
   "source": [
    "import copy\n",
    "def cloneList():\n",
    "    list1 = eval(input('Enter a list'))\n",
    "    print(list1, id(list1))\n",
    "    cloned_list = list1.copy()\n",
    "    print(cloned_list, id(cloned_list))\n",
    "\n",
    "cloneList()"
   ]
  },
  {
   "cell_type": "markdown",
   "id": "eea4619f",
   "metadata": {},
   "source": [
    "11.Write a Python program to Count occurrences of an element in a list?"
   ]
  },
  {
   "cell_type": "code",
   "execution_count": 13,
   "id": "605d8deb",
   "metadata": {},
   "outputs": [
    {
     "name": "stdout",
     "output_type": "stream",
     "text": [
      "Enter the elements of the list: 4,5,6,7,2,55,67,3,47\n",
      "Enter the element to find: 7\n",
      "There are 1 occurences of 7 in (4, 5, 6, 7, 2, 55, 67, 3, 47)\n"
     ]
    }
   ],
   "source": [
    "def checkOccurence():\n",
    "    list1 = eval(input('Enter the elements of the list: '))\n",
    "    num = eval(input('Enter the element to find: '))\n",
    "    count = 0\n",
    "    if num in list1:\n",
    "        for ele in list1:\n",
    "            if ele == num:\n",
    "                count = count+1\n",
    "    print(f'There are {count} occurences of {num} in {list1}')\n",
    "    \n",
    "checkOccurence()"
   ]
  },
  {
   "cell_type": "code",
   "execution_count": null,
   "id": "026097b2",
   "metadata": {},
   "outputs": [],
   "source": []
  }
 ],
 "metadata": {
  "kernelspec": {
   "display_name": "Python 3 (ipykernel)",
   "language": "python",
   "name": "python3"
  },
  "language_info": {
   "codemirror_mode": {
    "name": "ipython",
    "version": 3
   },
   "file_extension": ".py",
   "mimetype": "text/x-python",
   "name": "python",
   "nbconvert_exporter": "python",
   "pygments_lexer": "ipython3",
   "version": "3.9.12"
  }
 },
 "nbformat": 4,
 "nbformat_minor": 5
}
