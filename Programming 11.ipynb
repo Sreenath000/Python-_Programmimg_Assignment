{
 "cells": [
  {
   "cell_type": "markdown",
   "id": "06e1c3c4",
   "metadata": {},
   "source": [
    "1.Write a Python program to find words which are greater than given length k?"
   ]
  },
  {
   "cell_type": "code",
   "execution_count": 2,
   "id": "0652fd63",
   "metadata": {},
   "outputs": [
    {
     "name": "stdout",
     "output_type": "stream",
     "text": [
      "Enter the string : i am good boy\n",
      "Enter the length of the string : 2\n",
      "good,boy\n"
     ]
    }
   ],
   "source": [
    "###Python program to find words which are greater than given length k\n",
    "def string_greater_than_k():\n",
    "    str_1 = input(\"Enter the string : \")\n",
    "    str_len = int(input(\"Enter the length of the string : \"))\n",
    "    output_str = []\n",
    "    for string in str_1.split(\" \"):\n",
    "        if len(string)>str_len:\n",
    "            output_str.append(string)\n",
    "    print(','.join(output_str))\n",
    "string_greater_than_k()"
   ]
  },
  {
   "cell_type": "markdown",
   "id": "2e1a20e0",
   "metadata": {},
   "source": [
    "2.Write a Python program for removing i-th character from a string?"
   ]
  },
  {
   "cell_type": "code",
   "execution_count": 3,
   "id": "80319534",
   "metadata": {},
   "outputs": [
    {
     "name": "stdout",
     "output_type": "stream",
     "text": [
      "Enter thr string : Virat\n",
      "Enter the Character : 3\n",
      "Virt\n"
     ]
    }
   ],
   "source": [
    "###Python program for removing i-th character from a string\n",
    "def remove_character():\n",
    "    str_1 = input(\"Enter thr string : \")\n",
    "    char_item = int(input(\"Enter the Character : \"))\n",
    "    output_str = ''\n",
    "    for ele in range(len(str_1)):\n",
    "        if ele != char_item:\n",
    "            output_str = output_str + str_1[ele]\n",
    "    print(output_str)\n",
    "remove_character()"
   ]
  },
  {
   "cell_type": "markdown",
   "id": "21313b6a",
   "metadata": {},
   "source": [
    "3.Write a Python program to split and join a string?"
   ]
  },
  {
   "cell_type": "code",
   "execution_count": 5,
   "id": "c8e5ca95",
   "metadata": {},
   "outputs": [
    {
     "name": "stdout",
     "output_type": "stream",
     "text": [
      "Enter the string : john cena is best\n",
      "split string : ['john', 'cena', 'is', 'best']\n",
      "join string  : john cena is best\n"
     ]
    }
   ],
   "source": [
    "###Python program to split and join a string\n",
    "def split_join_str():\n",
    "    str1 = input(\"Enter the string : \")\n",
    "    print(f\"split string : {str1.split(' ')}\")\n",
    "    print(f\"join string  : {' '.join(str1.split(' '))}\")\n",
    "    \n",
    "split_join_str()"
   ]
  },
  {
   "cell_type": "markdown",
   "id": "893195ab",
   "metadata": {},
   "source": [
    "4.Write a Python to check if a given string is binary string or not?"
   ]
  },
  {
   "cell_type": "code",
   "execution_count": 6,
   "id": "7d11c279",
   "metadata": {},
   "outputs": [
    {
     "name": "stdout",
     "output_type": "stream",
     "text": [
      "Enter the string : hello every one good morning\n",
      "hello every one good morning is not a binart string\n",
      "Enter the string : 01001001\n",
      "01001001 is a binary string\n"
     ]
    }
   ],
   "source": [
    "###Python to check if a given string is binary string or not\n",
    "def check_string():\n",
    "    str1 = input(\"Enter the string : \")\n",
    "    str_val = 0\n",
    "    for ele in str1:\n",
    "        if ele in ['0','1']:\n",
    "            str_val = 1\n",
    "            continue\n",
    "        else:\n",
    "            str_val = 0\n",
    "            break\n",
    "    statement = 'is a binary string' if str_val == 1 else 'is not a binart string' \n",
    "    print(f'{str1} {statement}')\n",
    "check_string()\n",
    "check_string()"
   ]
  },
  {
   "cell_type": "markdown",
   "id": "023bc2a3",
   "metadata": {},
   "source": [
    "5.Write a Python program to find uncommon words from two Strings?"
   ]
  },
  {
   "cell_type": "code",
   "execution_count": 7,
   "id": "220e37a8",
   "metadata": {},
   "outputs": [
    {
     "name": "stdout",
     "output_type": "stream",
     "text": [
      "Enter the string1 : john cena\n",
      "Enter the string2 : john adam\n",
      "{'cena', 'adam'}\n"
     ]
    }
   ],
   "source": [
    "###Python program to find uncommon words from two Strings\n",
    "def verify_string():\n",
    "    str1 = set(input(\"Enter the string1 : \").split(\" \"))\n",
    "    str2 = set(input(\"Enter the string2 : \").split(\" \"))\n",
    "    out_str = (str1.union(str2)).difference(str1.intersection(str2))\n",
    "    print(out_str)\n",
    "verify_string()"
   ]
  },
  {
   "cell_type": "markdown",
   "id": "7c8d0ba1",
   "metadata": {},
   "source": [
    "6.Write a Python to find all duplicate characters in string?"
   ]
  },
  {
   "cell_type": "code",
   "execution_count": 8,
   "id": "abb6e9d6",
   "metadata": {},
   "outputs": [
    {
     "name": "stdout",
     "output_type": "stream",
     "text": [
      "Enter the string : sreenath\n",
      "Duplicate characters are: ['e']\n"
     ]
    }
   ],
   "source": [
    "###Python to find all duplicate characters in string\n",
    "def duplicate_characters():\n",
    "    str1 = input(\"Enter the string : \")\n",
    "    non_dup_char = []\n",
    "    dup_char = []\n",
    "    for ele in str1:\n",
    "        if ele not in non_dup_char:\n",
    "            non_dup_char.append(ele)\n",
    "        else:\n",
    "            dup_char.append(ele)\n",
    "    print(f'Duplicate characters are: {list(set(dup_char))}')\n",
    "duplicate_characters()"
   ]
  },
  {
   "cell_type": "markdown",
   "id": "8fb8a84d",
   "metadata": {},
   "source": [
    "7.Write a Python Program to check if a string contains any special character?"
   ]
  },
  {
   "cell_type": "code",
   "execution_count": 9,
   "id": "4860349f",
   "metadata": {},
   "outputs": [
    {
     "name": "stdout",
     "output_type": "stream",
     "text": [
      "Enter the string: john !help\n",
      "There are 1 Speical Characters in john !help which are ['!']\n",
      "Enter the string: !hello @world\n",
      "There are 2 Speical Characters in !hello @world which are ['!', '@']\n"
     ]
    }
   ],
   "source": [
    "###Python Program to check if a string contains any special character\n",
    "def check_special_char():\n",
    "    spl_chars = '[@_!#$%^&*()<>?/\\|}{~:]'\n",
    "    str1 = input('Enter the string: ')\n",
    "    count = 0\n",
    "    char_list = []\n",
    "    for ele in str1:\n",
    "        if ele in spl_chars:\n",
    "            char_list.append(ele)\n",
    "            count = count+1\n",
    "    print(f'There are {count} Speical Characters in {str1} which are {char_list}')\n",
    "            \n",
    "        \n",
    "check_special_char()\n",
    "check_special_char()"
   ]
  },
  {
   "cell_type": "code",
   "execution_count": null,
   "id": "eeff3667",
   "metadata": {},
   "outputs": [],
   "source": []
  }
 ],
 "metadata": {
  "kernelspec": {
   "display_name": "Python 3 (ipykernel)",
   "language": "python",
   "name": "python3"
  },
  "language_info": {
   "codemirror_mode": {
    "name": "ipython",
    "version": 3
   },
   "file_extension": ".py",
   "mimetype": "text/x-python",
   "name": "python",
   "nbconvert_exporter": "python",
   "pygments_lexer": "ipython3",
   "version": "3.9.12"
  }
 },
 "nbformat": 4,
 "nbformat_minor": 5
}
