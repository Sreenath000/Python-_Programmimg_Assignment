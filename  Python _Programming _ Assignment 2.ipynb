{
 "cells": [
  {
   "cell_type": "markdown",
   "id": "6a15f88a",
   "metadata": {},
   "source": [
    "1.\tWrite a Python program to convert kilometers to miles?"
   ]
  },
  {
   "cell_type": "code",
   "execution_count": 1,
   "id": "a37a1bc5",
   "metadata": {},
   "outputs": [
    {
     "name": "stdout",
     "output_type": "stream",
     "text": [
      "Enter the value of kilometers : 3\n",
      "Enter the value of one Mile : 1.60934\n",
      "Miles is 1.8641182099494202\n"
     ]
    }
   ],
   "source": [
    "### Conversion of Kilometers into Miles\n",
    "### 1 Mile = 1.60934\n",
    "s = float(input(\"Enter the value of kilometers : \"))\n",
    "Mile = float(input(\"Enter the value of one Mile : \"))\n",
    "Conversion_of_Kilometers_into_Miles = s/Mile\n",
    "print(f'Miles is {Conversion_of_Kilometers_into_Miles}')"
   ]
  },
  {
   "cell_type": "markdown",
   "id": "39973acf",
   "metadata": {},
   "source": [
    "2.\tWrite a Python program to convert Celsius to Fahrenheit?"
   ]
  },
  {
   "cell_type": "code",
   "execution_count": 3,
   "id": "cde5a897",
   "metadata": {},
   "outputs": [
    {
     "name": "stdout",
     "output_type": "stream",
     "text": [
      "Enter the value of Celsius : 89\n",
      "Enter the value of Celsius : 4.5\n",
      "Fahrenheit is 192.2\n",
      "Fahrenheit is 40.1\n"
     ]
    }
   ],
   "source": [
    "### Conversion of Celsius to Fahrenheit\n",
    "### One Celsius = 33.8 Fahrenheit\n",
    "### Formula (0°C × 9/5) + 32 = 32°F\n",
    "s = int(input(\"Enter the value of Celsius : \"))\n",
    "r = float(input(\"Enter the value of Celsius : \"))\n",
    "Conversion_of_Celsius_to_Fahrenheit1 = (s * 9/5) + 32\n",
    "Conversion_of_Celsius_to_Fahrenheit2 = (r * 9/5) + 32\n",
    "print(f'Fahrenheit is {Conversion_of_Celsius_to_Fahrenheit1}')\n",
    "print(f'Fahrenheit is {Conversion_of_Celsius_to_Fahrenheit2}')"
   ]
  },
  {
   "cell_type": "markdown",
   "id": "8e8e6845",
   "metadata": {},
   "source": [
    "3.\tWrite a Python program to display calendar?"
   ]
  },
  {
   "cell_type": "code",
   "execution_count": 7,
   "id": "df1ae5da",
   "metadata": {},
   "outputs": [
    {
     "name": "stdout",
     "output_type": "stream",
     "text": [
      "Enter the year : 2022\n",
      "                                  2022\n",
      "\n",
      "      January                   February                   March\n",
      "Mo Tu We Th Fr Sa Su      Mo Tu We Th Fr Sa Su      Mo Tu We Th Fr Sa Su\n",
      "                1  2          1  2  3  4  5  6          1  2  3  4  5  6\n",
      " 3  4  5  6  7  8  9       7  8  9 10 11 12 13       7  8  9 10 11 12 13\n",
      "10 11 12 13 14 15 16      14 15 16 17 18 19 20      14 15 16 17 18 19 20\n",
      "17 18 19 20 21 22 23      21 22 23 24 25 26 27      21 22 23 24 25 26 27\n",
      "24 25 26 27 28 29 30      28                        28 29 30 31\n",
      "31\n",
      "\n",
      "       April                      May                       June\n",
      "Mo Tu We Th Fr Sa Su      Mo Tu We Th Fr Sa Su      Mo Tu We Th Fr Sa Su\n",
      "             1  2  3                         1             1  2  3  4  5\n",
      " 4  5  6  7  8  9 10       2  3  4  5  6  7  8       6  7  8  9 10 11 12\n",
      "11 12 13 14 15 16 17       9 10 11 12 13 14 15      13 14 15 16 17 18 19\n",
      "18 19 20 21 22 23 24      16 17 18 19 20 21 22      20 21 22 23 24 25 26\n",
      "25 26 27 28 29 30         23 24 25 26 27 28 29      27 28 29 30\n",
      "                          30 31\n",
      "\n",
      "        July                     August                  September\n",
      "Mo Tu We Th Fr Sa Su      Mo Tu We Th Fr Sa Su      Mo Tu We Th Fr Sa Su\n",
      "             1  2  3       1  2  3  4  5  6  7                1  2  3  4\n",
      " 4  5  6  7  8  9 10       8  9 10 11 12 13 14       5  6  7  8  9 10 11\n",
      "11 12 13 14 15 16 17      15 16 17 18 19 20 21      12 13 14 15 16 17 18\n",
      "18 19 20 21 22 23 24      22 23 24 25 26 27 28      19 20 21 22 23 24 25\n",
      "25 26 27 28 29 30 31      29 30 31                  26 27 28 29 30\n",
      "\n",
      "      October                   November                  December\n",
      "Mo Tu We Th Fr Sa Su      Mo Tu We Th Fr Sa Su      Mo Tu We Th Fr Sa Su\n",
      "                1  2          1  2  3  4  5  6                1  2  3  4\n",
      " 3  4  5  6  7  8  9       7  8  9 10 11 12 13       5  6  7  8  9 10 11\n",
      "10 11 12 13 14 15 16      14 15 16 17 18 19 20      12 13 14 15 16 17 18\n",
      "17 18 19 20 21 22 23      21 22 23 24 25 26 27      19 20 21 22 23 24 25\n",
      "24 25 26 27 28 29 30      28 29 30                  26 27 28 29 30 31\n",
      "31\n",
      "\n"
     ]
    }
   ],
   "source": [
    "import calendar\n",
    "year = int(input(\"Enter the year : \"))\n",
    "print(calendar.calendar(year))"
   ]
  },
  {
   "cell_type": "markdown",
   "id": "e52b9913",
   "metadata": {},
   "source": [
    "4.\tWrite a Python program to solve quadratic equation?"
   ]
  },
  {
   "cell_type": "code",
   "execution_count": 8,
   "id": "fa7e67c2",
   "metadata": {},
   "outputs": [
    {
     "name": "stdout",
     "output_type": "stream",
     "text": [
      "Enter the value of a : 5\n",
      "Enter the value of b : 10\n",
      "Enter the value of c : -24\n",
      "The solutions are (-3.4083189157584592+0j) and (1.4083189157584592+0j)\n"
     ]
    }
   ],
   "source": [
    "### To Solve Quadratic Equation of 5x² + 10x - 24 = 0\n",
    "### Here a = 5, b = 10, c = -24\n",
    "### To Perform Mathematical Calculations we need to import cmath Module\n",
    "import cmath\n",
    "a = int(input(\"Enter the value of a : \"))\n",
    "b = int(input(\"Enter the value of b : \"))\n",
    "c = int(input(\"Enter the value of c : \"))\n",
    "d = (b**2)-(4*a*c)\n",
    "sol1 = (-b-cmath.sqrt(d))/(2*a)\n",
    "sol2 = (-b+cmath.sqrt(d))/(2*a)\n",
    "x = print(f'The solutions are {sol1} and {sol2}')"
   ]
  },
  {
   "cell_type": "markdown",
   "id": "49f6e075",
   "metadata": {},
   "source": [
    "5.\tWrite a Python program to swap two variables without temp variable?"
   ]
  },
  {
   "cell_type": "code",
   "execution_count": 12,
   "id": "3dc27de5",
   "metadata": {},
   "outputs": [
    {
     "name": "stdout",
     "output_type": "stream",
     "text": [
      "Enter the value of x : 30\n",
      "Enter the value of y : 20\n",
      "x = 50\n",
      "y = 10\n",
      "x1 = 10\n"
     ]
    }
   ],
   "source": [
    "x = int(input(\"Enter the value of x : \"))\n",
    "y = int(input(\"Enter the value of y : \"))\n",
    "x1 = x + y\n",
    "y1 = x - y\n",
    "x2 = x - y\n",
    "print(\"x =\", x1)\n",
    "print(\"y =\", y1)\n",
    "print(\"x1 =\", x2)"
   ]
  },
  {
   "cell_type": "code",
   "execution_count": null,
   "id": "f65e0ce7",
   "metadata": {},
   "outputs": [],
   "source": []
  }
 ],
 "metadata": {
  "kernelspec": {
   "display_name": "Python 3 (ipykernel)",
   "language": "python",
   "name": "python3"
  },
  "language_info": {
   "codemirror_mode": {
    "name": "ipython",
    "version": 3
   },
   "file_extension": ".py",
   "mimetype": "text/x-python",
   "name": "python",
   "nbconvert_exporter": "python",
   "pygments_lexer": "ipython3",
   "version": "3.9.12"
  }
 },
 "nbformat": 4,
 "nbformat_minor": 5
}
