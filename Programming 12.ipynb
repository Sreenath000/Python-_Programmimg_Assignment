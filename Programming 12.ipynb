{
 "cells": [
  {
   "cell_type": "markdown",
   "id": "b152e224",
   "metadata": {},
   "source": [
    "1.Write a Python program to Extract Unique values dictionary values?"
   ]
  },
  {
   "cell_type": "code",
   "execution_count": 1,
   "id": "7b5e1ccf",
   "metadata": {},
   "outputs": [
    {
     "name": "stdout",
     "output_type": "stream",
     "text": [
      "The original dicctionary is : {'a': [1, 2, 3, 4, 5, 6], 'b': [2, 3, 4, 5, 6, 7, 8, 9], 'c': [3, 4, 5, 6, 7, 8, 9, 10, 11], 'd': [4, 5, 6, 7, 8, 9, 0, 15, 17]}\n",
      "The unique vales list is : [0, 1, 2, 3, 4, 5, 6, 7, 8, 9, 10, 11, 15, 17]\n"
     ]
    }
   ],
   "source": [
    "###Python program to Extract Unique values dictionary values\n",
    "dict1 = {'a':[1,2,3,4,5,6],\n",
    "         'b':[2,3,4,5,6,7,8,9],\n",
    "         'c':[3,4,5,6,7,8,9,10,11],\n",
    "         'd':[4,5,6,7,8,9,0,15,17]}\n",
    "print(\"The original dicctionary is : \" + str(dict1))\n",
    "res = list(sorted({ele for val in dict1.values() for ele in val}))\n",
    "print(\"The unique vales list is : \" + str(res))"
   ]
  },
  {
   "cell_type": "markdown",
   "id": "043507c7",
   "metadata": {},
   "source": [
    "2.Write a Python program to find the sum of all items in a dictionary?"
   ]
  },
  {
   "cell_type": "code",
   "execution_count": 3,
   "id": "1bc1c608",
   "metadata": {},
   "outputs": [
    {
     "name": "stdout",
     "output_type": "stream",
     "text": [
      "sum :  1873\n"
     ]
    }
   ],
   "source": [
    "###Python program to find the sum of all items in a dictionary\n",
    "def sum_of_dict(mydict):\n",
    "    sum = 0\n",
    "    for i in mydict.values():\n",
    "        sum = sum + i\n",
    "    return sum\n",
    "dict1 = {'a':123,'b':456,'c':789,'d':505}\n",
    "print(\"sum : \", sum_of_dict(dict1))"
   ]
  },
  {
   "cell_type": "markdown",
   "id": "567dd48c",
   "metadata": {},
   "source": [
    "3.Write a Python program to Merging two Dictionaries?"
   ]
  },
  {
   "cell_type": "code",
   "execution_count": 4,
   "id": "7ca1fb9e",
   "metadata": {},
   "outputs": [
    {
     "name": "stdout",
     "output_type": "stream",
     "text": [
      "{'a': 123, 'b': 456, 'c': 111, 'd': 505, 'e': 741, 'f': 555, 'g': 345}\n"
     ]
    }
   ],
   "source": [
    "###Python program to Merging two Dictionaries\n",
    "def Merge(dict1,dict2):\n",
    "    res = dict1 | dict2\n",
    "    return res\n",
    "dict1 = {'a':123,'b':456,'c':789,'d':505}\n",
    "dict2 = {'e':741,'f':555,'c':111,'g':345}\n",
    "dict3 = dict1 | dict2\n",
    "print(dict3)"
   ]
  },
  {
   "cell_type": "markdown",
   "id": "482ec8fd",
   "metadata": {},
   "source": [
    "4.Write a Python program to convert key-values list to flat dictionary?"
   ]
  },
  {
   "cell_type": "code",
   "execution_count": 5,
   "id": "6c334694",
   "metadata": {},
   "outputs": [
    {
     "name": "stdout",
     "output_type": "stream",
     "text": [
      "The original dictionary is : {'month': [1, 2, 3], 'name': ['Jan', 'Feb', 'Mar']}\n",
      "Flattened dictionary : {1: 'Jan', 2: 'Feb', 3: 'Mar'}\n"
     ]
    }
   ],
   "source": [
    "###Python program to convert key-values list to flat dictionary\n",
    "from itertools import product\n",
    "dict1 = {'month' : [1,2,3],\n",
    "         'name'  :['Jan','Feb','Mar']}\n",
    "print(\"The original dictionary is : \" + str(dict1))\n",
    "res = dict(zip(dict1['month'],dict1['name']))\n",
    "print(\"Flattened dictionary : \" + str(res))"
   ]
  },
  {
   "cell_type": "markdown",
   "id": "875737e9",
   "metadata": {},
   "source": [
    "5.Write a Python program to insertion at the beginning in OrderedDict?"
   ]
  },
  {
   "cell_type": "code",
   "execution_count": 6,
   "id": "a3c5c078",
   "metadata": {},
   "outputs": [
    {
     "name": "stdout",
     "output_type": "stream",
     "text": [
      "Resultant Dictionary : OrderedDict([('Dinesh', '3'), ('Sreenath', '1'), ('Vamsi', '2')])\n"
     ]
    }
   ],
   "source": [
    "from collections import OrderedDict\n",
    "in_ordered_dict = OrderedDict([('Sreenath', '1'), ('Vamsi', '2')])\n",
    "in_ordered_dict.update({'Dinesh':'3'})\n",
    "in_ordered_dict.move_to_end('Dinesh', last = False)\n",
    "print (\"Resultant Dictionary : \"+str(in_ordered_dict))"
   ]
  },
  {
   "cell_type": "markdown",
   "id": "23f2ea8d",
   "metadata": {},
   "source": [
    "6.Write a Python program to check order of character in string using OrderedDict()?"
   ]
  },
  {
   "cell_type": "code",
   "execution_count": 7,
   "id": "b78ac7df",
   "metadata": {},
   "outputs": [
    {
     "name": "stdout",
     "output_type": "stream",
     "text": [
      "true\n"
     ]
    }
   ],
   "source": [
    "###Python program to check order of character in string using OrderedDict()\n",
    "from collections import OrderedDict\n",
    "def Check_Order(input,pattern):\n",
    "    dict = OrderedDict.fromkeys(input)\n",
    "    patternlen = 0\n",
    "    for key,value in dict.items():\n",
    "        if key==pattern[patternlen]:\n",
    "            patternlen = patternlen + 1\n",
    "            \n",
    "        if patternlen == (len(pattern)):\n",
    "            return 'true'\n",
    "    return false\n",
    "if __name__ == \"__main__\": \n",
    "    input = 'engineers rock'\n",
    "    pattern = 'er'\n",
    "    print(Check_Order(input,pattern))"
   ]
  },
  {
   "cell_type": "markdown",
   "id": "2bc1a60e",
   "metadata": {},
   "source": [
    "7.Write a Python program to sort Python Dictionaries by Key or Value?"
   ]
  },
  {
   "cell_type": "code",
   "execution_count": 8,
   "id": "8d498236",
   "metadata": {},
   "outputs": [
    {
     "name": "stdout",
     "output_type": "stream",
     "text": [
      "1 2 3 4 5 6 "
     ]
    }
   ],
   "source": [
    "def dict():\n",
    "    key_value = {}\n",
    "    \n",
    "    key_value[2] = 12      \n",
    "    key_value[1] = 34\n",
    "    key_value[5] = 56\n",
    "    key_value[4] = 78\n",
    "    key_value[6] = 90     \n",
    "    key_value[3] = 23\n",
    "    for i in sorted (key_value.keys()):\n",
    "        print(i,end=' ')\n",
    "def main():\n",
    "    dict()\n",
    "if __name__==\"__main__\":\n",
    "    main()"
   ]
  },
  {
   "cell_type": "code",
   "execution_count": 10,
   "id": "0996145a",
   "metadata": {},
   "outputs": [
    {
     "name": "stdout",
     "output_type": "stream",
     "text": [
      "12 23 34 56 78 90 "
     ]
    }
   ],
   "source": [
    "def dict():\n",
    "    key_value = {}\n",
    "    \n",
    "    key_value[2] = 12      \n",
    "    key_value[1] = 34\n",
    "    key_value[5] = 56\n",
    "    key_value[4] = 78\n",
    "    key_value[6] = 90     \n",
    "    key_value[3] = 23\n",
    "    for i in sorted (key_value.values()):\n",
    "        print(i,end=' ')\n",
    "def main():\n",
    "    dict()\n",
    "if __name__==\"__main__\":\n",
    "    main()"
   ]
  },
  {
   "cell_type": "code",
   "execution_count": null,
   "id": "150501ae",
   "metadata": {},
   "outputs": [],
   "source": []
  }
 ],
 "metadata": {
  "kernelspec": {
   "display_name": "Python 3 (ipykernel)",
   "language": "python",
   "name": "python3"
  },
  "language_info": {
   "codemirror_mode": {
    "name": "ipython",
    "version": 3
   },
   "file_extension": ".py",
   "mimetype": "text/x-python",
   "name": "python",
   "nbconvert_exporter": "python",
   "pygments_lexer": "ipython3",
   "version": "3.9.12"
  }
 },
 "nbformat": 4,
 "nbformat_minor": 5
}
