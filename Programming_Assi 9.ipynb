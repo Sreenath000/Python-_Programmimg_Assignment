{
 "cells": [
  {
   "cell_type": "markdown",
   "id": "9548ec40",
   "metadata": {},
   "source": [
    "1.Write a Python program to check if the given number is a Disarium Number?"
   ]
  },
  {
   "cell_type": "code",
   "execution_count": 1,
   "id": "825296ab",
   "metadata": {},
   "outputs": [
    {
     "name": "stdout",
     "output_type": "stream",
     "text": [
      "Enter a number : 105\n",
      "Not Disarium Number\n"
     ]
    }
   ],
   "source": [
    "### Python program to check if the given number is a Disarium Number\n",
    "import math\n",
    "def check(n):\n",
    "    count_digits = len(str(n))\n",
    "    sum = 0\n",
    "    x = n\n",
    "    while (x!=0):\n",
    "        r = x % 10\n",
    "        sum = (int) (sum + math.pow(r,count_digits))\n",
    "        count_digits = count_digits-1\n",
    "        x = x // 10\n",
    "    if sum ==n:\n",
    "        return 1\n",
    "    else:\n",
    "        return 0\n",
    "n = int(input(\"Enter a number : \"))\n",
    "if (check(n) == 1):\n",
    "    print(\"Disarium Number\")\n",
    "else:\n",
    "    print(\"Not Disarium Number\")"
   ]
  },
  {
   "cell_type": "code",
   "execution_count": 2,
   "id": "56ef237f",
   "metadata": {},
   "outputs": [
    {
     "name": "stdout",
     "output_type": "stream",
     "text": [
      "Enter a number : 135\n",
      "Disarium Number\n"
     ]
    }
   ],
   "source": [
    "import math\n",
    "def check(n):\n",
    "    count_digits = len(str(n))\n",
    "    sum = 0\n",
    "    x = n\n",
    "    while (x!=0):\n",
    "        r = x % 10\n",
    "        sum = (int) (sum + math.pow(r,count_digits))\n",
    "        count_digits = count_digits-1\n",
    "        x = x // 10\n",
    "    if sum ==n:\n",
    "        return 1\n",
    "    else:\n",
    "        return 0\n",
    "n = int(input(\"Enter a number : \"))\n",
    "if (check(n) == 1):\n",
    "    print(\"Disarium Number\")\n",
    "else:\n",
    "    print(\"Not Disarium Number\")"
   ]
  },
  {
   "cell_type": "markdown",
   "id": "153c4774",
   "metadata": {},
   "source": [
    "2.Write a Python program to print all disarium numbers between 1 to 100?"
   ]
  },
  {
   "cell_type": "code",
   "execution_count": 3,
   "id": "5704e6b4",
   "metadata": {},
   "outputs": [
    {
     "data": {
      "text/plain": [
       "[1, 2, 3, 4, 5, 6, 7, 8, 9, 89]"
      ]
     },
     "execution_count": 3,
     "metadata": {},
     "output_type": "execute_result"
    }
   ],
   "source": [
    "### Python program to print all disarium numbers between 1 to 100\n",
    "def DisariumNumbers(start=0,end=100):\n",
    "    output_num = []\n",
    "    for number in range(start,end+1):\n",
    "        sum = 0\n",
    "        for item in range(len(str(number))):\n",
    "            sum = sum + int(str(number)[item])**(item+1)\n",
    "        if sum == number:\n",
    "            output_num.append(number)\n",
    "    return output_num\n",
    "\n",
    "DisariumNumbers(1,101)"
   ]
  },
  {
   "cell_type": "markdown",
   "id": "c20c2bb7",
   "metadata": {},
   "source": [
    "3.Write a Python program to check if the given number is Happy Number?"
   ]
  },
  {
   "cell_type": "code",
   "execution_count": 6,
   "id": "b0f59253",
   "metadata": {},
   "outputs": [
    {
     "name": "stdout",
     "output_type": "stream",
     "text": [
      "Enter a Number: 55\n",
      "55 is not a Happy Number\n",
      "Enter a Number: 49\n",
      "49 is a Happy Number\n"
     ]
    }
   ],
   "source": [
    "###Python program to check if the given number is Happy Number\n",
    "def checkHappyNumber():\n",
    "    num = input('Enter a Number: ')\n",
    "    num_1 = num\n",
    "    trackNumber = set()   \n",
    "    while True:\n",
    "        if num != '1' and str(num) not in trackNumber:\n",
    "            trackNumber.add(num)\n",
    "            sum = 0\n",
    "            for i in range(len((num))):\n",
    "                sum = sum + int(num[i])**2\n",
    "            num = str(sum)\n",
    "        elif str(num) in trackNumber:\n",
    "            print(f'{num_1} is not a Happy Number')\n",
    "            break\n",
    "        else:\n",
    "            print(f'{num_1} is a Happy Number')\n",
    "            break\n",
    "\n",
    "checkHappyNumber()\n",
    "checkHappyNumber()"
   ]
  },
  {
   "cell_type": "markdown",
   "id": "f85d6a1c",
   "metadata": {},
   "source": [
    "4.Write a Python program to print all happy numbers between 1 and 100?"
   ]
  },
  {
   "cell_type": "code",
   "execution_count": 7,
   "id": "71aab154",
   "metadata": {},
   "outputs": [
    {
     "name": "stdout",
     "output_type": "stream",
     "text": [
      "The Happy Numbers between 0 and 101 are [1, 7, 10, 13, 19, 23, 28, 31, 32, 44, 49, 68, 70, 79, 82, 86, 91, 94, 97, 100]\n"
     ]
    }
   ],
   "source": [
    "### Python program to print all happy numbers between 1 and 100\n",
    "def checkHappyNumber(start = 0,end = 100):\n",
    "    happy_num = []\n",
    "    for num in range(start,end+1):\n",
    "        num = str(num)\n",
    "        num_1 = num\n",
    "        trackNumber = set()   \n",
    "        while True:\n",
    "            if num != '1' and str(num) not in trackNumber:\n",
    "                trackNumber.add(num)\n",
    "                sum = 0\n",
    "                for i in range(len(num)):\n",
    "                    sum = sum + int(num[i])**2\n",
    "                num = str(sum)\n",
    "            elif str(num) in trackNumber:\n",
    "                break\n",
    "            else:\n",
    "                happy_num.append(int(num_1))\n",
    "                break\n",
    "    print(f'The Happy Numbers between {start} and {end} are {happy_num}')\n",
    "\n",
    "checkHappyNumber(0,101)"
   ]
  },
  {
   "cell_type": "markdown",
   "id": "b1d4cf15",
   "metadata": {},
   "source": [
    "5.Write a Python program to determine whether the given number is a Harshad Number?"
   ]
  },
  {
   "cell_type": "code",
   "execution_count": 8,
   "id": "f8738bc1",
   "metadata": {},
   "outputs": [
    {
     "name": "stdout",
     "output_type": "stream",
     "text": [
      "Enter a Number: 126\n",
      "126 is a Harshad Number\n",
      "Enter a Number: 118\n",
      "118 is a Not Harshad Number\n"
     ]
    }
   ],
   "source": [
    "###Python program to determine whether the given number is a Harshad Number\n",
    "def checkHarshadNumber():\n",
    "    num = input('Enter a Number: ')\n",
    "    sum = 0\n",
    "    for i in range(len(num)):\n",
    "        sum = sum + int(num[i])\n",
    "    if int(num)%sum == 0:\n",
    "        print(f'{num} is a Harshad Number')\n",
    "    else:\n",
    "        print(f'{num} is a Not Harshad Number')\n",
    "        \n",
    "checkHarshadNumber()\n",
    "checkHarshadNumber()"
   ]
  },
  {
   "cell_type": "markdown",
   "id": "f25eb49d",
   "metadata": {},
   "source": [
    "6.Write a Python program to print all pronic numbers between 1 and 100?"
   ]
  },
  {
   "cell_type": "code",
   "execution_count": 9,
   "id": "a66e4134",
   "metadata": {},
   "outputs": [
    {
     "name": "stdout",
     "output_type": "stream",
     "text": [
      "[0, 2, 6, 12, 20, 30, 42, 56, 72, 90, 110, 132, 156, 182, 210, 240, 272, 306, 342, 380, 420, 462, 506, 552, 600, 650, 702, 756, 812, 870, 930, 992, 1056, 1122, 1190, 1260, 1332, 1406, 1482, 1560, 1640, 1722, 1806, 1892, 1980, 2070, 2162, 2256, 2352, 2450, 2550, 2652, 2756, 2862, 2970, 3080, 3192, 3306, 3422, 3540, 3660, 3782, 3906, 4032, 4160, 4290, 4422, 4556, 4692, 4830, 4970, 5112, 5256, 5402, 5550, 5700, 5852, 6006, 6162, 6320, 6480, 6642, 6806, 6972, 7140, 7310, 7482, 7656, 7832, 8010, 8190, 8372, 8556, 8742, 8930, 9120, 9312, 9506, 9702, 9900, 10100]\n"
     ]
    }
   ],
   "source": [
    "###Python program to print all pronic numbers between 1 and 100\n",
    "def PronicNumbers(start=0,end=100):\n",
    "    List1 = []\n",
    "    for i in range(start,end+1):\n",
    "        List1.append((i)*(i+1))\n",
    "    print(List1)\n",
    "                   \n",
    "PronicNumbers()"
   ]
  },
  {
   "cell_type": "code",
   "execution_count": null,
   "id": "39e8d193",
   "metadata": {},
   "outputs": [],
   "source": []
  }
 ],
 "metadata": {
  "kernelspec": {
   "display_name": "Python 3 (ipykernel)",
   "language": "python",
   "name": "python3"
  },
  "language_info": {
   "codemirror_mode": {
    "name": "ipython",
    "version": 3
   },
   "file_extension": ".py",
   "mimetype": "text/x-python",
   "name": "python",
   "nbconvert_exporter": "python",
   "pygments_lexer": "ipython3",
   "version": "3.9.12"
  }
 },
 "nbformat": 4,
 "nbformat_minor": 5
}
