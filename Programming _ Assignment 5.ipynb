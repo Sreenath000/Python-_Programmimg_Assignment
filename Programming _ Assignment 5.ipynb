{
 "cells": [
  {
   "cell_type": "markdown",
   "id": "49bd9a8f",
   "metadata": {},
   "source": [
    "1. Write a Python Program to Find LCM?"
   ]
  },
  {
   "cell_type": "code",
   "execution_count": 2,
   "id": "b3395d56",
   "metadata": {},
   "outputs": [
    {
     "name": "stdout",
     "output_type": "stream",
     "text": [
      "Enter the value of x : 8\n",
      "Enter the value of y : 4\n",
      "8\n",
      "L.C.M of two numbers is 8\n"
     ]
    }
   ],
   "source": [
    "### Python Program to Find LCM\n",
    "x = int(input(\"Enter the value of x : \"))\n",
    "y = int(input(\"Enter the value of y : \"))\n",
    "if x > y:\n",
    "    greater = x\n",
    "else:\n",
    "    greater = y\n",
    "while True:\n",
    "    if greater%x ==0 and greater%y==0:\n",
    "        print(greater)\n",
    "        break;\n",
    "    greater = greater +1\n",
    "print(f'L.C.M of two numbers is {greater}')"
   ]
  },
  {
   "cell_type": "markdown",
   "id": "83b4da62",
   "metadata": {},
   "source": [
    "2. Write a Python Program to Find HCF?"
   ]
  },
  {
   "cell_type": "code",
   "execution_count": 4,
   "id": "c5fbb1af",
   "metadata": {},
   "outputs": [
    {
     "name": "stdout",
     "output_type": "stream",
     "text": [
      "HCF of 70 and 120 is: 10\n"
     ]
    }
   ],
   "source": [
    "###Python Program to Find HCF\n",
    "x = 70\n",
    "y = 120\n",
    "if x > y:\n",
    "  x, y = y, x\n",
    "for i in range(1,x+1):\n",
    "  if x%i == 0 and y%i == 0:\n",
    "    hcf = i\n",
    "\n",
    "print(\"HCF of\", x, \"and\", y, \"is:\", hcf)"
   ]
  },
  {
   "cell_type": "markdown",
   "id": "9177e245",
   "metadata": {},
   "source": [
    "3. Write a Python Program to Convert Decimal to Binary, Octal and Hexadecimal?"
   ]
  },
  {
   "cell_type": "code",
   "execution_count": 5,
   "id": "8bc941f3",
   "metadata": {},
   "outputs": [
    {
     "name": "stdout",
     "output_type": "stream",
     "text": [
      "Enter the decimal number : 7\n",
      "Binary conversion of decimal number 7 is 0b111\n",
      "Octal conversion of decimal number 7 is 0o7\n",
      "Hexadecimal conversion of decimal number 7 is 0x7\n"
     ]
    }
   ],
   "source": [
    "###Python Program to Convert Decimal to Binary, Octal and Hexadecimal\n",
    "x = int(input(\"Enter the decimal number : \"))\n",
    "w = bin(x)\n",
    "y = oct(x)\n",
    "z = hex(x)\n",
    "print(f'Binary conversion of decimal number {x} is {w}')\n",
    "print(f'Octal conversion of decimal number {x} is {y}')\n",
    "print(f'Hexadecimal conversion of decimal number {x} is {z}')"
   ]
  },
  {
   "cell_type": "markdown",
   "id": "11154b18",
   "metadata": {},
   "source": [
    "4. Write a Python Program To Find ASCII value of a character?"
   ]
  },
  {
   "cell_type": "code",
   "execution_count": 6,
   "id": "1362c0a2",
   "metadata": {},
   "outputs": [
    {
     "name": "stdout",
     "output_type": "stream",
     "text": [
      "Enter any character : x\n",
      "The ASCII value of a character is 120\n"
     ]
    }
   ],
   "source": [
    "### Python Program To Find ASCII value of a character\n",
    "x = str(input(\"Enter any character : \"))\n",
    "print(\"The ASCII value of a character is\", ord(x))"
   ]
  },
  {
   "cell_type": "markdown",
   "id": "985073d4",
   "metadata": {},
   "source": [
    "5. Write a Python Program to Make a Simple Calculator with 4 basic mathematical operations?"
   ]
  },
  {
   "cell_type": "code",
   "execution_count": null,
   "id": "a6bbd046",
   "metadata": {},
   "outputs": [
    {
     "name": "stdout",
     "output_type": "stream",
     "text": [
      "Select  your option : \n",
      "1.Add\n",
      "2.Subtraction\n",
      "3.Multiplication\n",
      "4.Division\n",
      "Enter your option :1\n",
      "Enter the value of x : 5\n",
      "Enter the value of y : 9\n",
      "x + y = 14\n",
      "Enter your option :2\n",
      "Enter the value of x : 5\n",
      "Enter the value of y : 2\n",
      "x - y = 3\n",
      "Enter your option :3\n",
      "Enter the value of x : 2\n",
      "Enter the value of y : 4\n",
      "x * y = 8\n",
      "Enter your option :4\n",
      "Enter the value of x : 4\n",
      "Enter the value of y : 2\n",
      "x / y = 2.0\n"
     ]
    }
   ],
   "source": [
    "###Python Program to Make a Simple Calculator with 4 basic mathematical operations\n",
    "def add(x,y):\n",
    "    return x+y\n",
    "def subtract(x,y):\n",
    "    return x-y\n",
    "def multiply(x,y):\n",
    "    return x*y\n",
    "def division(x,y):\n",
    "    return x/y\n",
    "print(\"Select  your option : \")\n",
    "print(\"1.Add\")\n",
    "print(\"2.Subtraction\")\n",
    "print(\"3.Multiplication\")\n",
    "print(\"4.Division\")\n",
    "while True:\n",
    "    choice = int(input(\"Enter your option :\"  ))\n",
    "    x = int(input(\"Enter the value of x : \"  ))\n",
    "    y = int(input(\"Enter the value of y : \"  ))\n",
    "    if choice == 1:\n",
    "        print('x','+','y','=',add(x,y))\n",
    "    elif choice == 2:\n",
    "        print('x','-','y','=',subtract(x,y))\n",
    "    elif choice == 3:\n",
    "        print('x','*','y','=',multiply(x,y))\n",
    "    elif choice == 4:\n",
    "        print('x','/','y','=',division(x,y))\n",
    "    else:\n",
    "        print(\"Invalid option\")   "
   ]
  },
  {
   "cell_type": "code",
   "execution_count": null,
   "id": "7f75f117",
   "metadata": {},
   "outputs": [],
   "source": []
  }
 ],
 "metadata": {
  "kernelspec": {
   "display_name": "Python 3 (ipykernel)",
   "language": "python",
   "name": "python3"
  },
  "language_info": {
   "codemirror_mode": {
    "name": "ipython",
    "version": 3
   },
   "file_extension": ".py",
   "mimetype": "text/x-python",
   "name": "python",
   "nbconvert_exporter": "python",
   "pygments_lexer": "ipython3",
   "version": "3.9.12"
  }
 },
 "nbformat": 4,
 "nbformat_minor": 5
}
