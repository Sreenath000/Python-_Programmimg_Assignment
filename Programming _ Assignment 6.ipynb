{
 "cells": [
  {
   "cell_type": "markdown",
   "id": "24ff9a68",
   "metadata": {},
   "source": [
    "1. Write a Python Program to Display Fibonacci Sequence Using Recursion?"
   ]
  },
  {
   "cell_type": "code",
   "execution_count": 3,
   "id": "9aa0969b",
   "metadata": {},
   "outputs": [
    {
     "name": "stdout",
     "output_type": "stream",
     "text": [
      "21\n"
     ]
    }
   ],
   "source": [
    "###Python Program to Display Fibonacci Sequence Using Recursion\n",
    "def fibonacci_recursion(x):\n",
    "    if x < 0:\n",
    "        print(\"Incorrect Input\")\n",
    "    elif x == 0:\n",
    "        return 0\n",
    "    elif x == 1 or x == 2:\n",
    "        return 1\n",
    "    else:\n",
    "        return fibonacci_recursion(x-1) + fibonacci_recursion(x-2)\n",
    "print(fibonacci_recursion(8))   "
   ]
  },
  {
   "cell_type": "markdown",
   "id": "bd4ac409",
   "metadata": {},
   "source": [
    "2. Write a Python Program to Find Factorial of Number Using Recursion?"
   ]
  },
  {
   "cell_type": "code",
   "execution_count": 5,
   "id": "a4751d09",
   "metadata": {},
   "outputs": [
    {
     "name": "stdout",
     "output_type": "stream",
     "text": [
      "Enter any number : 8\n",
      "The factorial of 8 is 40320\n"
     ]
    }
   ],
   "source": [
    "###Python Program to Find Factorial of Number Using Recursion\n",
    "def recursion_factorial(n):\n",
    "    if n == 1:\n",
    "        return n\n",
    "    else :\n",
    "        return n*recursion_factorial(n-1)\n",
    "n = int(input(\"Enter any number : \"))\n",
    "if n < 0:\n",
    "    print(\"Sorry please enter positive input\")\n",
    "elif n == 0:\n",
    "    print(f'Factorial of a 0 is 1')\n",
    "else:\n",
    "    print(\"The factorial of\", n, \"is\", recursion_factorial(n))"
   ]
  },
  {
   "cell_type": "markdown",
   "id": "a5d63641",
   "metadata": {},
   "source": [
    "3. Write a Python Program to calculate your Body Mass Index?"
   ]
  },
  {
   "cell_type": "code",
   "execution_count": 26,
   "id": "88e88b83",
   "metadata": {},
   "outputs": [
    {
     "name": "stdout",
     "output_type": "stream",
     "text": [
      "Input your height in Feet: 5.10\n",
      "Input your weight in Kilogram: 65\n",
      "Your body mass index is:  2.5\n"
     ]
    }
   ],
   "source": [
    "###Python Program to calculate your Body Mass Index\n",
    "height = float(input(\"Input your height in Feet: \"))\n",
    "weight = float(input(\"Input your weight in Kilogram: \"))\n",
    "print(\"Your body mass index is: \", round(weight / (height * height), 2))"
   ]
  },
  {
   "cell_type": "markdown",
   "id": "b6f39b07",
   "metadata": {},
   "source": [
    "4. Write a Python Program to calculate the natural logarithm of any number?"
   ]
  },
  {
   "cell_type": "code",
   "execution_count": 27,
   "id": "1164ae65",
   "metadata": {},
   "outputs": [
    {
     "name": "stdout",
     "output_type": "stream",
     "text": [
      "Logarithm base 2 of 14 is : 5.643856189774724\n"
     ]
    }
   ],
   "source": [
    "###Python Program to calculate the natural logarithm of any number\n",
    "import math\n",
    "print (\"Logarithm base 2 of 14 is : \", end=\"\")\n",
    "print(math.log2(50))"
   ]
  },
  {
   "cell_type": "markdown",
   "id": "299222ae",
   "metadata": {},
   "source": [
    "5. Write a Python Program for cube sum of first n natural numbers?"
   ]
  },
  {
   "cell_type": "code",
   "execution_count": 28,
   "id": "86e7e50b",
   "metadata": {},
   "outputs": [
    {
     "name": "stdout",
     "output_type": "stream",
     "text": [
      "14400\n"
     ]
    }
   ],
   "source": [
    "###Python Program for cube sum of first n natural numbers\n",
    "def sumofseries(n):\n",
    "    sum = 0\n",
    "    for i in range(1,n+1):\n",
    "        sum +=i*i*i\n",
    "    return sum\n",
    "n = 10\n",
    "print(sumofseries(15))"
   ]
  },
  {
   "cell_type": "code",
   "execution_count": null,
   "id": "5dbaf42f",
   "metadata": {},
   "outputs": [],
   "source": []
  }
 ],
 "metadata": {
  "kernelspec": {
   "display_name": "Python 3 (ipykernel)",
   "language": "python",
   "name": "python3"
  },
  "language_info": {
   "codemirror_mode": {
    "name": "ipython",
    "version": 3
   },
   "file_extension": ".py",
   "mimetype": "text/x-python",
   "name": "python",
   "nbconvert_exporter": "python",
   "pygments_lexer": "ipython3",
   "version": "3.9.12"
  }
 },
 "nbformat": 4,
 "nbformat_minor": 5
}
