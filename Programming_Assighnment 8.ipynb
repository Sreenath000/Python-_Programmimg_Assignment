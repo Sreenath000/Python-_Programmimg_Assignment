{
 "cells": [
  {
   "cell_type": "markdown",
   "id": "c30ef1c6",
   "metadata": {},
   "source": [
    "1.Write a Python Program to Add Two Matrices?"
   ]
  },
  {
   "cell_type": "code",
   "execution_count": 5,
   "id": "708d92b1",
   "metadata": {},
   "outputs": [
    {
     "name": "stdout",
     "output_type": "stream",
     "text": [
      "[9, 8, 5]\n",
      "[7, 13, 7]\n",
      "[12, 9, 17]\n"
     ]
    }
   ],
   "source": [
    "### Pyhton Program to add two Matrices\n",
    "x = [[1,2,3],\n",
    "    [4,5,6],\n",
    "    [7,8,9]]\n",
    "        \n",
    "y = [[8,6,2],\n",
    "    [3,8,1],\n",
    "    [5,1,8]]\n",
    "        \n",
    "z = [[0,0,0],\n",
    "    [0,0,0],\n",
    "    [0,0,0]]\n",
    "\n",
    "for i in range(len(x)):\n",
    "    for j in range(len(x[0])):\n",
    "        z[i][j] = x[i][j]+y[i][j]\n",
    "for k in z:\n",
    "    print(k)"
   ]
  },
  {
   "cell_type": "markdown",
   "id": "13249fcf",
   "metadata": {},
   "source": [
    "2.Write a Python Program to Multiply Two Matrices?"
   ]
  },
  {
   "cell_type": "code",
   "execution_count": 6,
   "id": "4b29bfe3",
   "metadata": {},
   "outputs": [
    {
     "name": "stdout",
     "output_type": "stream",
     "text": [
      "[50, 35, 29]\n",
      "[125, 77, 74]\n",
      "[200, 119, 119]\n"
     ]
    }
   ],
   "source": [
    "###  Python Program to Multiply Two Matrices\n",
    "x = [[1,2,3],\n",
    "    [4,5,6],\n",
    "    [7,8,9]]\n",
    "\n",
    "y = [[9,1,7],\n",
    "    [7,5,2],\n",
    "    [9,8,6]]\n",
    "        \n",
    "z = [[0,0,0],\n",
    "    [0,0,0],\n",
    "    [0,0,0]]\n",
    "\n",
    "for i in range(len(x)):\n",
    "    for j in range(len(y[0])):\n",
    "        for k in range(len(y)):\n",
    "            z[i][j] += x[i][k]*y[k][j]\n",
    "for r in z:\n",
    "    print(r)"
   ]
  },
  {
   "cell_type": "markdown",
   "id": "28104174",
   "metadata": {},
   "source": [
    "3.Write a Python Program to Transpose a Matrix?"
   ]
  },
  {
   "cell_type": "code",
   "execution_count": 4,
   "id": "9c080fa9",
   "metadata": {},
   "outputs": [
    {
     "name": "stdout",
     "output_type": "stream",
     "text": [
      "[1, 4, 3]\n",
      "[8, 3, 9]\n"
     ]
    }
   ],
   "source": [
    "### Python Program to Transpose a Matrix\n",
    "X = [[1,8],\n",
    "    [4 ,3],\n",
    "    [3 ,9]]\n",
    "\n",
    "y = [[0,0,0],\n",
    "         [0,0,0]]\n",
    "for i in range(len(X)):\n",
    "    for j in range(len(X[0])):\n",
    "        y[j][i] = X[i][j]\n",
    "for r in y:\n",
    "    print(r)"
   ]
  },
  {
   "cell_type": "markdown",
   "id": "0a1892fa",
   "metadata": {},
   "source": [
    "4.Write a Python Program to Sort Words in Alphabetic Order?"
   ]
  },
  {
   "cell_type": "code",
   "execution_count": 9,
   "id": "35f115f9",
   "metadata": {},
   "outputs": [
    {
     "name": "stdout",
     "output_type": "stream",
     "text": [
      "The sorted words are : \n",
      "good\n",
      "hello\n",
      "ineuron\n",
      "moring\n"
     ]
    }
   ],
   "source": [
    "###Python Program to Sort Words in Alphabetic Order\n",
    "my_str = \"Hello INeuron Good Moring\" \n",
    "words = [word.lower() for word in my_str.split()]\n",
    "words.sort()\n",
    "print(\"The sorted words are : \")\n",
    "for word in words:\n",
    "    print(word)"
   ]
  },
  {
   "cell_type": "markdown",
   "id": "67a41f98",
   "metadata": {},
   "source": [
    "5.Write a Python Program to Remove Punctuation From a String?"
   ]
  },
  {
   "cell_type": "code",
   "execution_count": 11,
   "id": "93dd50e4",
   "metadata": {},
   "outputs": [
    {
     "name": "stdout",
     "output_type": "stream",
     "text": [
      "Hello they drink and went\n"
     ]
    }
   ],
   "source": [
    "###Python Program to Remove Punctuation From a String\n",
    "punctuations = '''!()-[]{};:'\"\\,<>./?@#$%^&*_~'''\n",
    "my_str = \"Hello!!!, they drink ---and went.\"\n",
    "no_punct = \"\"\n",
    "for char in my_str:\n",
    "    if char not in punctuations:\n",
    "        no_punct = no_punct + char\n",
    "print(no_punct)"
   ]
  },
  {
   "cell_type": "code",
   "execution_count": null,
   "id": "3f05e88a",
   "metadata": {},
   "outputs": [],
   "source": []
  }
 ],
 "metadata": {
  "kernelspec": {
   "display_name": "Python 3 (ipykernel)",
   "language": "python",
   "name": "python3"
  },
  "language_info": {
   "codemirror_mode": {
    "name": "ipython",
    "version": 3
   },
   "file_extension": ".py",
   "mimetype": "text/x-python",
   "name": "python",
   "nbconvert_exporter": "python",
   "pygments_lexer": "ipython3",
   "version": "3.9.12"
  }
 },
 "nbformat": 4,
 "nbformat_minor": 5
}
