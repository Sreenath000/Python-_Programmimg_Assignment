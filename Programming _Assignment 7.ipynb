{
 "cells": [
  {
   "cell_type": "markdown",
   "id": "593bbda7",
   "metadata": {},
   "source": [
    "1. Write a Python Program to find sum of array?"
   ]
  },
  {
   "cell_type": "code",
   "execution_count": 2,
   "id": "fb9976a0",
   "metadata": {},
   "outputs": [
    {
     "name": "stdout",
     "output_type": "stream",
     "text": [
      "Sum of array [2, 5, 3, 7, 12, 14, 19] is 62\n"
     ]
    }
   ],
   "source": [
    "### Python Program to find sum of array\n",
    "arr = [2,5,3,7,12,14,19]\n",
    "def sum_array(arr):\n",
    "    sum = 0\n",
    "    for i in arr:\n",
    "        sum = sum + i\n",
    "    return sum\n",
    "print(f'Sum of array {arr} is {sum(arr)}')"
   ]
  },
  {
   "cell_type": "markdown",
   "id": "fd7c92d6",
   "metadata": {},
   "source": [
    "2.Write a Python Program to find largest element in an array?"
   ]
  },
  {
   "cell_type": "code",
   "execution_count": 3,
   "id": "7d645674",
   "metadata": {},
   "outputs": [
    {
     "name": "stdout",
     "output_type": "stream",
     "text": [
      "565\n"
     ]
    }
   ],
   "source": [
    "###Python Program to find largest element in an array\n",
    "array = [0,5,10,34,54,254,565]\n",
    "max = array[0]\n",
    "for i in range(0,len(array)):\n",
    "    if array[i] > max:\n",
    "        max = array[i]\n",
    "print(max)"
   ]
  },
  {
   "cell_type": "markdown",
   "id": "38acbed6",
   "metadata": {},
   "source": [
    "3.Write a Python Program for array rotation?"
   ]
  },
  {
   "cell_type": "code",
   "execution_count": 4,
   "id": "0a58313c",
   "metadata": {},
   "outputs": [
    {
     "name": "stdout",
     "output_type": "stream",
     "text": [
      "Enter the array : 1,6,3,8,367,454,68\n",
      "Rotation of an array is (1, 6, 3, 8, 367, 454, 68) is (68, 454, 367, 8, 3, 6, 1)\n"
     ]
    }
   ],
   "source": [
    "### Python Program for array rotation\n",
    "def arr_rotate():\n",
    "    arr = eval(input(\"Enter the array : \"))\n",
    "    print(f'Rotation of an array is {arr} is {arr[::-1]}')\n",
    "arr_rotate()"
   ]
  },
  {
   "cell_type": "markdown",
   "id": "3e628af5",
   "metadata": {},
   "source": [
    "4.Write a Python Program to Split the array and add the first part to the end?"
   ]
  },
  {
   "cell_type": "code",
   "execution_count": 5,
   "id": "1e2aee2c",
   "metadata": {},
   "outputs": [
    {
     "name": "stdout",
     "output_type": "stream",
     "text": [
      "Enter an array : 2,5,9,10,345\n",
      "Splitting an array and adding the first part to the end (2, 5, 9, 10, 345) is 347\n"
     ]
    }
   ],
   "source": [
    "###Python Program to Split the array and add the first part to the end\n",
    "def split_Arr():\n",
    "    arr = eval(input(\"Enter an array : \"))\n",
    "    print(f'Splitting an array and adding the first part to the end {arr} is {arr[-1]+arr[0]}')\n",
    "split_Arr()"
   ]
  },
  {
   "cell_type": "markdown",
   "id": "acd609f9",
   "metadata": {},
   "source": [
    "5.Write a Python Program to check if given array is Monotonic?"
   ]
  },
  {
   "cell_type": "code",
   "execution_count": 6,
   "id": "f106c502",
   "metadata": {},
   "outputs": [
    {
     "name": "stdout",
     "output_type": "stream",
     "text": [
      "Enter an array : 7,8,12,23,45,67\n",
      "Array (7, 8, 12, 23, 45, 67) is Monotonic\n"
     ]
    }
   ],
   "source": [
    "### Python Program to check if given array is Monotonic\n",
    "def monotonic():\n",
    "    arr = eval(input(\"Enter an array : \"))\n",
    "    if(all(arr[i]<=arr[i+1] for i in range(len(arr)-1)) or all(arr[i]>=arr[i+1] for i in range(len(arr)-1))):\n",
    "        print(f'Array {arr} is Monotonic')\n",
    "    else:\n",
    "        print(f'Array {arr} is Not Monotonic')\n",
    "\n",
    "monotonic()"
   ]
  },
  {
   "cell_type": "code",
   "execution_count": null,
   "id": "9c46372c",
   "metadata": {},
   "outputs": [],
   "source": []
  }
 ],
 "metadata": {
  "kernelspec": {
   "display_name": "Python 3 (ipykernel)",
   "language": "python",
   "name": "python3"
  },
  "language_info": {
   "codemirror_mode": {
    "name": "ipython",
    "version": 3
   },
   "file_extension": ".py",
   "mimetype": "text/x-python",
   "name": "python",
   "nbconvert_exporter": "python",
   "pygments_lexer": "ipython3",
   "version": "3.9.12"
  }
 },
 "nbformat": 4,
 "nbformat_minor": 5
}
