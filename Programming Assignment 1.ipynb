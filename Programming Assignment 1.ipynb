{
 "cells": [
  {
   "cell_type": "markdown",
   "id": "69381d71",
   "metadata": {},
   "source": [
    "1.\tWrite a Python program to print \"Hello Python\"?"
   ]
  },
  {
   "cell_type": "code",
   "execution_count": 1,
   "id": "b8cc9e40",
   "metadata": {},
   "outputs": [
    {
     "name": "stdout",
     "output_type": "stream",
     "text": [
      "Hello Python\n"
     ]
    }
   ],
   "source": [
    "print(\"Hello Python\")"
   ]
  },
  {
   "cell_type": "markdown",
   "id": "180cb1b8",
   "metadata": {},
   "source": [
    "1.\tWrite a Python program to do arithmetical operations addition and division.?"
   ]
  },
  {
   "cell_type": "code",
   "execution_count": 3,
   "id": "eca0bc10",
   "metadata": {},
   "outputs": [
    {
     "name": "stdout",
     "output_type": "stream",
     "text": [
      "Enter Number1 34\n",
      "Enter Number2 23\n",
      "57\n",
      "1.4782608695652173\n"
     ]
    }
   ],
   "source": [
    "x = int(input(\"Enter Number1 \"))\n",
    "y = int(input(\"Enter Number2 \"))\n",
    "a = x+y\n",
    "d = x/y\n",
    "print(a)\n",
    "print(d)"
   ]
  },
  {
   "cell_type": "markdown",
   "id": "8504696d",
   "metadata": {},
   "source": [
    "3.\tWrite a Python program to find the area of a triangle?"
   ]
  },
  {
   "cell_type": "code",
   "execution_count": 4,
   "id": "bbc09bdd",
   "metadata": {},
   "outputs": [
    {
     "name": "stdout",
     "output_type": "stream",
     "text": [
      "Enter any number1 -12\n",
      "Enter any number2 -8\n",
      "Area_of_a_Triangle is 48.0\n"
     ]
    }
   ],
   "source": [
    "base = int(input(\"Enter any number1 -\"))\n",
    "height = int(input(\"Enter any number2 -\"))\n",
    "Area_of_a_Triangle = 1/2*base*height\n",
    "print(f'Area_of_a_Triangle is {Area_of_a_Triangle}')"
   ]
  },
  {
   "cell_type": "markdown",
   "id": "171ee560",
   "metadata": {},
   "source": [
    "4.\tWrite a Python program to swap two variables?"
   ]
  },
  {
   "cell_type": "code",
   "execution_count": 7,
   "id": "e8f0cfea",
   "metadata": {},
   "outputs": [
    {
     "name": "stdout",
     "output_type": "stream",
     "text": [
      "Enter value of s - 76\n",
      "Enter value of r - 32\n",
      "The value of s after swapping: 32\n",
      "The value of r after swapping: 76\n"
     ]
    }
   ],
   "source": [
    "s = input('Enter value of s - ')\n",
    "r = input('Enter value of r - ')\n",
    "temp = s\n",
    "s = r\n",
    "r = temp\n",
    "print('The value of s after swapping: {}'.format(s))\n",
    "print('The value of r after swapping: {}'.format(r))"
   ]
  },
  {
   "cell_type": "markdown",
   "id": "a85e2c62",
   "metadata": {},
   "source": [
    "5.\tWrite a Python program to generate a random number?"
   ]
  },
  {
   "cell_type": "code",
   "execution_count": 8,
   "id": "f6376d44",
   "metadata": {},
   "outputs": [
    {
     "name": "stdout",
     "output_type": "stream",
     "text": [
      "8\n",
      "121\n",
      "229\n"
     ]
    }
   ],
   "source": [
    "import random\n",
    "s = random.randint(0,9)\n",
    "r = random.randint(120,150)\n",
    "x = random.randint(170,230)\n",
    "print(s)\n",
    "print(r)\n",
    "print(x)\n"
   ]
  },
  {
   "cell_type": "code",
   "execution_count": null,
   "id": "38bf3c08",
   "metadata": {},
   "outputs": [],
   "source": []
  }
 ],
 "metadata": {
  "kernelspec": {
   "display_name": "Python 3 (ipykernel)",
   "language": "python",
   "name": "python3"
  },
  "language_info": {
   "codemirror_mode": {
    "name": "ipython",
    "version": 3
   },
   "file_extension": ".py",
   "mimetype": "text/x-python",
   "name": "python",
   "nbconvert_exporter": "python",
   "pygments_lexer": "ipython3",
   "version": "3.9.12"
  }
 },
 "nbformat": 4,
 "nbformat_minor": 5
}
